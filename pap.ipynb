{
 "cells": [
  {
   "cell_type": "code",
   "execution_count": 1,
   "id": "bb934650-efe7-407b-a42c-fb3b8f63f320",
   "metadata": {},
   "outputs": [
    {
     "name": "stdout",
     "output_type": "stream",
     "text": [
      "=== Caesar Cipher ===\n",
      "1. Encrypt a message\n",
      "2. Decrypt a message\n"
     ]
    },
    {
     "name": "stdin",
     "output_type": "stream",
     "text": [
      "Choose (1/2):  1\n",
      "Enter message to encrypt:  dgfghbhjk\n",
      "Shift amount:  8\n"
     ]
    },
    {
     "name": "stdout",
     "output_type": "stream",
     "text": [
      "Encrypted message: lonopjprs\n"
     ]
    }
   ],
   "source": [
    "def caesar_cipher(text, shift, mode):\n",
    "    result = \"\"\n",
    "    for char in text:\n",
    "        if char.isalpha():\n",
    "            # Shift logic (different for encrypt/decrypt)\n",
    "            if mode == 'encrypt':\n",
    "                new_char = chr((ord(char.lower()) - 97 + shift) % 26 + 97)\n",
    "            elif mode == 'decrypt':\n",
    "                new_char = chr((ord(char.lower()) - 97 - shift) % 26 + 97)\n",
    "            result += new_char\n",
    "        else:\n",
    "            result += char\n",
    "    return result\n",
    "\n",
    "# Main program\n",
    "print(\"=== Caesar Cipher ===\")\n",
    "print(\"1. Encrypt a message\")\n",
    "print(\"2. Decrypt a message\")\n",
    "choice = input(\"Choose (1/2): \")\n",
    "\n",
    "if choice == '1':\n",
    "    text = input(\"Enter message to encrypt: \")\n",
    "    shift = int(input(\"Shift amount: \"))\n",
    "    encrypted = caesar_cipher(text, shift, 'encrypt')\n",
    "    print(\"Encrypted message:\", encrypted)\n",
    "elif choice == '2':\n",
    "    text = input(\"Enter message to decrypt: \")\n",
    "    shift = int(input(\"Shift amount: \"))\n",
    "    decrypted = caesar_cipher(text, shift, 'decrypt')\n",
    "    print(\"Decrypted message:\", decrypted)\n",
    "else:\n",
    "    print(\"Invalid choice!\")"
   ]
  },
  {
   "cell_type": "code",
   "execution_count": null,
   "id": "b0f04e3c-c937-4af4-baf5-1f520a86d74d",
   "metadata": {},
   "outputs": [],
   "source": []
  }
 ],
 "metadata": {
  "kernelspec": {
   "display_name": "Python [conda env:base] *",
   "language": "python",
   "name": "conda-base-py"
  },
  "language_info": {
   "codemirror_mode": {
    "name": "ipython",
    "version": 3
   },
   "file_extension": ".py",
   "mimetype": "text/x-python",
   "name": "python",
   "nbconvert_exporter": "python",
   "pygments_lexer": "ipython3",
   "version": "3.12.7"
  }
 },
 "nbformat": 4,
 "nbformat_minor": 5
}
